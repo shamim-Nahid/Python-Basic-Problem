{
  "nbformat": 4,
  "nbformat_minor": 0,
  "metadata": {
    "colab": {
      "provenance": []
    },
    "kernelspec": {
      "name": "python3",
      "display_name": "Python 3"
    },
    "language_info": {
      "name": "python"
    }
  },
  "cells": [
    {
      "cell_type": "markdown",
      "source": [
        "**Mir Shamim Nahid (Data Science & Analysis Batch -5 )**\n",
        "\n",
        "---"
      ],
      "metadata": {
        "id": "CpdPWq3AdID6"
      }
    },
    {
      "cell_type": "markdown",
      "source": [
        "1. Write a program to print your information."
      ],
      "metadata": {
        "id": "Fku81sl0WSHK"
      }
    },
    {
      "cell_type": "code",
      "execution_count": 1,
      "metadata": {
        "colab": {
          "base_uri": "https://localhost:8080/"
        },
        "id": "FJrfYJLcVzHC",
        "outputId": "a5404ef0-fc15-4127-b91b-2a9523e57443"
      },
      "outputs": [
        {
          "output_type": "stream",
          "name": "stdout",
          "text": [
            "My name is Mir Shamim Nahid/nNow I am studying Jahangirnagar University in the department of IIT\n"
          ]
        }
      ],
      "source": [
        "print(\"My name is Mir Shamim Nahid/nNow I am studying Jahangirnagar University in the department of IIT\")"
      ]
    },
    {
      "cell_type": "markdown",
      "source": [
        "2. Write a program to enter two numbers and perform all arithmetic\n",
        "operations."
      ],
      "metadata": {
        "id": "aKDto4MwWWKg"
      }
    },
    {
      "cell_type": "code",
      "source": [
        "num1 = int(input(\"Enter first number: \"))\n",
        "num2 = int(input(\"Enter second number: \"))\n",
        "print(f\"Sum: {num1 + num2}\")\n",
        "print(f\"Difference: {num1 - num2}\")\n",
        "print(f\"Product: {num1 * num2}\")\n",
        "print(f\"Division: {num1 / num2}\")\n",
        "print(f\"Modulo: {num1 % num2}\")"
      ],
      "metadata": {
        "colab": {
          "base_uri": "https://localhost:8080/"
        },
        "id": "BZFm4Xl1WZUA",
        "outputId": "57751609-5be3-474a-ddd2-c777a8a914d7"
      },
      "execution_count": 2,
      "outputs": [
        {
          "output_type": "stream",
          "name": "stdout",
          "text": [
            "Enter first number: 10\n",
            "Enter second number: 5\n",
            "Sum: 15\n",
            "Difference: 5\n",
            "Product: 50\n",
            "Division: 2.0\n",
            "Modulo: 0\n"
          ]
        }
      ]
    },
    {
      "cell_type": "markdown",
      "source": [
        "3. Write a program to enter the length, and breadth of a rectangle and find its\n",
        "perimeter and area"
      ],
      "metadata": {
        "id": "eibb7eMUXJle"
      }
    },
    {
      "cell_type": "code",
      "source": [
        "length = float(input(\"Enter length: \"))\n",
        "breadth = float(input(\"Enter breadth: \"))\n",
        "perimeter = 2 * (length + breadth)\n",
        "area = length * breadth\n",
        "print(f\"Perimeter: {perimeter}\")\n",
        "print(f\"Area: {area}\")"
      ],
      "metadata": {
        "colab": {
          "base_uri": "https://localhost:8080/"
        },
        "id": "bxlOG1IRXKcl",
        "outputId": "3971be9e-8843-4c66-86a7-4b3dae532bfa"
      },
      "execution_count": 3,
      "outputs": [
        {
          "output_type": "stream",
          "name": "stdout",
          "text": [
            "Enter length: 10.8\n",
            "Enter breadth: 7.6\n",
            "Perimeter: 36.8\n",
            "Area: 82.08\n"
          ]
        }
      ]
    },
    {
      "cell_type": "markdown",
      "source": [
        "4. Write a Program to calculate the area of an equilateral triangle.\n"
      ],
      "metadata": {
        "id": "Ln7Gqxc8XavM"
      }
    },
    {
      "cell_type": "code",
      "source": [
        "side = float(input(\"Enter side: \"))\n",
        "area = (3**0.5 / 4) * side * side\n",
        "print(f\"Area: {area}\")"
      ],
      "metadata": {
        "colab": {
          "base_uri": "https://localhost:8080/"
        },
        "id": "qUh3gA7cXSDU",
        "outputId": "cb2b47b5-47d7-4868-9130-61b5edd0fadc"
      },
      "execution_count": 4,
      "outputs": [
        {
          "output_type": "stream",
          "name": "stdout",
          "text": [
            "Enter side: 5\n",
            "Area: 10.825317547305481\n"
          ]
        }
      ]
    },
    {
      "cell_type": "markdown",
      "source": [
        "5. Write a program to calculate the perimeter and area of a circle with a\n",
        "given radius."
      ],
      "metadata": {
        "id": "Lw6Tj2k4XjZb"
      }
    },
    {
      "cell_type": "code",
      "source": [
        "radius = float(input(\"Enter radius: \"))\n",
        "perimeter = 2 * 3.14159 * radius\n",
        "area = 3.14159 * radius * radius\n",
        "print(f\"Perimeter: {perimeter}\")\n",
        "print(f\"Area: {area}\")"
      ],
      "metadata": {
        "colab": {
          "base_uri": "https://localhost:8080/"
        },
        "id": "g8H4UCkpXmZ5",
        "outputId": "233118df-5063-43b9-cae1-ea0473f50200"
      },
      "execution_count": 5,
      "outputs": [
        {
          "output_type": "stream",
          "name": "stdout",
          "text": [
            "Enter radius: 5.7\n",
            "Perimeter: 35.814126\n",
            "Area: 102.0702591\n"
          ]
        }
      ]
    },
    {
      "cell_type": "markdown",
      "source": [
        "6. Write a program to find the third angle of a triangle if two angles are given."
      ],
      "metadata": {
        "id": "f1rJmnDmXq32"
      }
    },
    {
      "cell_type": "code",
      "source": [
        "angle1 = float(input(\"Enter first angle: \"))\n",
        "angle2 = float(input(\"Enter second angle: \"))\n",
        "angle3 = 180 - angle1 - angle2\n",
        "print(f\"Third angle: {angle3}\")"
      ],
      "metadata": {
        "colab": {
          "base_uri": "https://localhost:8080/"
        },
        "id": "Hc4BX9iUXuD7",
        "outputId": "63b154d3-366d-47b9-fbb0-12fa6ad9da93"
      },
      "execution_count": 6,
      "outputs": [
        {
          "output_type": "stream",
          "name": "stdout",
          "text": [
            "Enter first angle: 25\n",
            "Enter second angle: 75\n",
            "Third angle: 80.0\n"
          ]
        }
      ]
    },
    {
      "cell_type": "markdown",
      "source": [
        "7. Write a program that converts Centigrade to Fahrenheit"
      ],
      "metadata": {
        "id": "021yAkqnXz0X"
      }
    },
    {
      "cell_type": "code",
      "source": [
        "centigrade = float(input(\"Enter centigrade: \"))\n",
        "fahrenheit = (centigrade * 9/5) + 32\n",
        "print(f\"Fahrenheit: {fahrenheit}\")"
      ],
      "metadata": {
        "colab": {
          "base_uri": "https://localhost:8080/"
        },
        "id": "_ufNU6sCX8cA",
        "outputId": "c50f7e28-ab9a-42e1-97fe-8c54715ac113"
      },
      "execution_count": 7,
      "outputs": [
        {
          "output_type": "stream",
          "name": "stdout",
          "text": [
            "Enter centigrade: 87\n",
            "Fahrenheit: 188.6\n"
          ]
        }
      ]
    },
    {
      "cell_type": "markdown",
      "source": [
        "8. Write a program that converts Fahrenheit to Centigrade.\n"
      ],
      "metadata": {
        "id": "dI1MhUrUX2ON"
      }
    },
    {
      "cell_type": "code",
      "source": [
        "fahrenheit = float(input(\"Enter fahrenheit: \"))\n",
        "centigrade = (fahrenheit - 32) * 5/9\n",
        "print(f\"Centigrade: {centigrade}\")\n"
      ],
      "metadata": {
        "colab": {
          "base_uri": "https://localhost:8080/"
        },
        "id": "QWGGG2RDYF1m",
        "outputId": "8d454d75-720c-4f6a-bc52-807f652137b2"
      },
      "execution_count": 8,
      "outputs": [
        {
          "output_type": "stream",
          "name": "stdout",
          "text": [
            "Enter fahrenheit: 188\n",
            "Centigrade: 86.66666666666667\n"
          ]
        }
      ]
    },
    {
      "cell_type": "markdown",
      "source": [
        "9. Write a Program to enter marks of five subjects and calculate the total,\n",
        "average, and percentage"
      ],
      "metadata": {
        "id": "RCTAdrT8X6HU"
      }
    },
    {
      "cell_type": "code",
      "source": [
        "marks = []\n",
        "for i in range(5):\n",
        "    mark = float(input(f\"Enter mark {i+1}: \"))\n",
        "    marks.append(mark)\n",
        "total = sum(marks)\n",
        "average = total / len(marks)\n",
        "percentage = (total / (len(marks) * 100)) * 100\n",
        "print(f\"Total: {total}\")\n",
        "print(f\"Average: {average}\")\n",
        "print(f\"Percentage: {percentage}%\")\n"
      ],
      "metadata": {
        "colab": {
          "base_uri": "https://localhost:8080/"
        },
        "id": "XUbdD5prYE05",
        "outputId": "cba41bbc-c2bb-4f6e-e749-bb83d3ade955"
      },
      "execution_count": 9,
      "outputs": [
        {
          "output_type": "stream",
          "name": "stdout",
          "text": [
            "Enter mark 1: 85\n",
            "Enter mark 2: 87\n",
            "Enter mark 3: 92\n",
            "Enter mark 4: 96\n",
            "Enter mark 5: 89\n",
            "Total: 449.0\n",
            "Average: 89.8\n",
            "Percentage: 89.8%\n"
          ]
        }
      ]
    },
    {
      "cell_type": "markdown",
      "source": [
        "10. Write a Program to enter P, T, and R and calculate simple interest."
      ],
      "metadata": {
        "id": "vdmCoVpQYVyl"
      }
    },
    {
      "cell_type": "code",
      "source": [
        "principal = float(input(\"Enter principal: \"))\n",
        "time = float(input(\"Enter time: \"))\n",
        "rate = float(input(\"Enter rate: \"))\n",
        "interest = (principal * time * rate) / 100\n",
        "print(f\"Simple Interest: {interest}\")"
      ],
      "metadata": {
        "colab": {
          "base_uri": "https://localhost:8080/"
        },
        "id": "-F1qT7MxYYp6",
        "outputId": "3d088bf5-b41c-4e8f-a8b2-9a1ee9acfb6e"
      },
      "execution_count": 10,
      "outputs": [
        {
          "output_type": "stream",
          "name": "stdout",
          "text": [
            "Enter principal: 100000\n",
            "Enter time: 3\n",
            "Enter rate: 11.5\n",
            "Simple Interest: 34500.0\n"
          ]
        }
      ]
    },
    {
      "cell_type": "markdown",
      "source": [
        "11. Write a Program to enter P, T, and R and calculate compound interest."
      ],
      "metadata": {
        "id": "W_QAer_nYfDX"
      }
    },
    {
      "cell_type": "code",
      "source": [
        "principal = float(input(\"Enter principal: \"))\n",
        "time = float(input(\"Enter time: \"))\n",
        "rate = float(input(\"Enter rate: \"))\n",
        "amount = principal * (pow((1 + rate / 100), time))\n",
        "ci = amount - principal\n",
        "print(f\"Compound Interest: {ci}\")"
      ],
      "metadata": {
        "colab": {
          "base_uri": "https://localhost:8080/"
        },
        "id": "QC_ctCk7Yh-B",
        "outputId": "bca0a3eb-e495-41f2-b109-31d95e94a82b"
      },
      "execution_count": 11,
      "outputs": [
        {
          "output_type": "stream",
          "name": "stdout",
          "text": [
            "Enter principal: 100000\n",
            "Enter time: 3\n",
            "Enter rate: 11.5\n",
            "Compound Interest: 38619.587499999994\n"
          ]
        }
      ]
    },
    {
      "cell_type": "markdown",
      "source": [
        "12. Write a Program that takes minutes as input and displays the\n",
        "total number of hours and minutes"
      ],
      "metadata": {
        "id": "k_cprHq8Ynzn"
      }
    },
    {
      "cell_type": "code",
      "source": [
        "minutes = int(input(\"Enter minutes: \"))\n",
        "hours = minutes // 60\n",
        "remaining_minutes = minutes % 60\n",
        "print(f\"Hours: {hours}, Minutes: {remaining_minutes}\")\n"
      ],
      "metadata": {
        "colab": {
          "base_uri": "https://localhost:8080/"
        },
        "id": "bmmxAKC6YrY4",
        "outputId": "7adbb62b-d520-4268-9089-da2a6f44e7fe"
      },
      "execution_count": 12,
      "outputs": [
        {
          "output_type": "stream",
          "name": "stdout",
          "text": [
            "Enter minutes: 134\n",
            "Hours: 2, Minutes: 14\n"
          ]
        }
      ]
    },
    {
      "cell_type": "markdown",
      "source": [
        "13. Write a program to convert specified days into years, weeks and the\n",
        "rest of the days."
      ],
      "metadata": {
        "id": "SZGzQPqcYyaM"
      }
    },
    {
      "cell_type": "code",
      "source": [
        "days = int(input(\"Enter days: \"))\n",
        "years = days // 365\n",
        "remaining_days = days % 365\n",
        "weeks = remaining_days // 7\n",
        "remaining_days = remaining_days % 7\n",
        "print(f\"Years: {years}, Weeks: {weeks}, Days: {remaining_days}\")"
      ],
      "metadata": {
        "colab": {
          "base_uri": "https://localhost:8080/"
        },
        "id": "JhHoNR4eYxAi",
        "outputId": "c43444e6-1aab-403a-8e1a-8aaf9aa8b114"
      },
      "execution_count": 13,
      "outputs": [
        {
          "output_type": "stream",
          "name": "stdout",
          "text": [
            "Enter days: 3556\n",
            "Years: 9, Weeks: 38, Days: 5\n"
          ]
        }
      ]
    },
    {
      "cell_type": "markdown",
      "source": [
        "14. Write a program to find the power of any number x ^ y"
      ],
      "metadata": {
        "id": "ORI80Ma2Y6nh"
      }
    },
    {
      "cell_type": "code",
      "source": [
        "base = float(input(\"Enter base: \"))\n",
        "exponent = float(input(\"Enter exponent: \"))\n",
        "result = base ** exponent\n",
        "print(f\"{base}^{exponent} = {result}\")"
      ],
      "metadata": {
        "colab": {
          "base_uri": "https://localhost:8080/"
        },
        "id": "hII1u8UBY9sN",
        "outputId": "87c8e00c-d7ea-45b9-e449-dda1520c7d9b"
      },
      "execution_count": 14,
      "outputs": [
        {
          "output_type": "stream",
          "name": "stdout",
          "text": [
            "Enter base: 3\n",
            "Enter exponent: 3\n",
            "3.0^3.0 = 27.0\n"
          ]
        }
      ]
    },
    {
      "cell_type": "markdown",
      "source": [
        "15. Write a program to enter any number and calculate its square root."
      ],
      "metadata": {
        "id": "JaBVPNV0ZBjG"
      }
    },
    {
      "cell_type": "code",
      "source": [
        "number = float(input(\"Enter number: \"))\n",
        "result = number**0.5\n",
        "print(f\"Square root: {result}\")"
      ],
      "metadata": {
        "colab": {
          "base_uri": "https://localhost:8080/"
        },
        "id": "W9l2NCgjZBOV",
        "outputId": "6f485aed-30bd-40ab-d651-cf370f5949e2"
      },
      "execution_count": 15,
      "outputs": [
        {
          "output_type": "stream",
          "name": "stdout",
          "text": [
            "Enter number: 625\n",
            "Square root: 25.0\n"
          ]
        }
      ]
    },
    {
      "cell_type": "markdown",
      "source": [
        "16. Write a program to find the maximum between two numbers"
      ],
      "metadata": {
        "id": "JMIcWgqPZIj9"
      }
    },
    {
      "cell_type": "code",
      "source": [
        "num1 = float(input(\"Enter first number: \"))\n",
        "num2 = float(input(\"Enter second number: \"))\n",
        "print(f\"Maximum: {max(num1, num2)}\")"
      ],
      "metadata": {
        "colab": {
          "base_uri": "https://localhost:8080/"
        },
        "id": "bMgkGU9OZLQj",
        "outputId": "fa02aded-ace2-4132-bb18-8f1c35fb566f"
      },
      "execution_count": 16,
      "outputs": [
        {
          "output_type": "stream",
          "name": "stdout",
          "text": [
            "Enter first number: 658\n",
            "Enter second number: 985\n",
            "Maximum: 985.0\n"
          ]
        }
      ]
    },
    {
      "cell_type": "markdown",
      "source": [
        "17. Write a program to find the maximum between three numbers"
      ],
      "metadata": {
        "id": "ojRrFXF0ZPZS"
      }
    },
    {
      "cell_type": "code",
      "source": [
        "num1 = float(input(\"Enter first number: \"))\n",
        "num2 = float(input(\"Enter second number: \"))\n",
        "num3 = float(input(\"Enter third number: \"))\n",
        "print(f\"Maximum: {max(num1, num2, num3)}\")"
      ],
      "metadata": {
        "colab": {
          "base_uri": "https://localhost:8080/"
        },
        "id": "Ap-ujsYcZTsO",
        "outputId": "3f7c069d-9924-4a97-ec54-c4ac512d2320"
      },
      "execution_count": 17,
      "outputs": [
        {
          "output_type": "stream",
          "name": "stdout",
          "text": [
            "Enter first number: 65\n",
            "Enter second number: 75\n",
            "Enter third number: 95\n",
            "Maximum: 95.0\n"
          ]
        }
      ]
    },
    {
      "cell_type": "markdown",
      "source": [
        "18. Write a program to check whether a number is even or odd"
      ],
      "metadata": {
        "id": "hJrQoUXSZTME"
      }
    },
    {
      "cell_type": "code",
      "source": [
        "number = int(input(\"Enter number: \"))\n",
        "if number % 2 == 0:\n",
        "    print(\"Even\")\n",
        "else:\n",
        "    print(\"Odd\")"
      ],
      "metadata": {
        "colab": {
          "base_uri": "https://localhost:8080/"
        },
        "id": "NHi9WAt3Za9G",
        "outputId": "1eec4fdc-be4b-4241-a534-73b90bcfe7d9"
      },
      "execution_count": 18,
      "outputs": [
        {
          "output_type": "stream",
          "name": "stdout",
          "text": [
            "Enter number: 986\n",
            "Even\n"
          ]
        }
      ]
    },
    {
      "cell_type": "markdown",
      "source": [
        "19. Write a program to check whether a number is negative,\n",
        "positive, or zero"
      ],
      "metadata": {
        "id": "I6D52tXuZgl3"
      }
    },
    {
      "cell_type": "code",
      "source": [
        "number = float(input(\"Enter number: \"))\n",
        "if number > 0:\n",
        "    print(\"Positive\")\n",
        "elif number < 0:\n",
        "    print(\"Negative\")\n",
        "else:\n",
        "    print(\"Zero\")"
      ],
      "metadata": {
        "colab": {
          "base_uri": "https://localhost:8080/"
        },
        "id": "u6Z_mlOTZjNB",
        "outputId": "3d784398-91e8-4c43-a1dd-f2aa13f3ad26"
      },
      "execution_count": 19,
      "outputs": [
        {
          "output_type": "stream",
          "name": "stdout",
          "text": [
            "Enter number: 869\n",
            "Positive\n"
          ]
        }
      ]
    },
    {
      "cell_type": "markdown",
      "source": [
        "20.Write a program to check whether a number is divisible by 5 or\n",
        "11 or not."
      ],
      "metadata": {
        "id": "ZG_OdUpKZm9w"
      }
    },
    {
      "cell_type": "code",
      "source": [
        "number = int(input(\"Enter number: \"))\n",
        "if number % 5 == 0 or number % 11 == 0:\n",
        "    print(\"Divisible by 5 or 11\")\n",
        "else:\n",
        "    print(\"Not divisible by 5 or 11\")\n"
      ],
      "metadata": {
        "colab": {
          "base_uri": "https://localhost:8080/"
        },
        "id": "rl0VnH02Z0pV",
        "outputId": "575fb473-c735-46b3-97f2-85dfa1a5943f"
      },
      "execution_count": 21,
      "outputs": [
        {
          "output_type": "stream",
          "name": "stdout",
          "text": [
            "Enter number: 65\n",
            "Divisible by 5 or 11\n"
          ]
        }
      ]
    },
    {
      "cell_type": "markdown",
      "source": [
        "21. Write a program to check whether you are eligible to make a\n",
        "NID Card or not.\n"
      ],
      "metadata": {
        "id": "_u2kjqU8Zz3P"
      }
    },
    {
      "cell_type": "code",
      "source": [
        "age = int(input(\"Enter age: \"))\n",
        "if age >= 18:\n",
        "    print(\"Eligible for NID card\")\n",
        "else:\n",
        "    print(\"Not eligible for NID card\")"
      ],
      "metadata": {
        "colab": {
          "base_uri": "https://localhost:8080/"
        },
        "id": "6xaqWnZ8Zpwh",
        "outputId": "e2e84105-9299-453e-fbaa-6c3e9757fce6"
      },
      "execution_count": 20,
      "outputs": [
        {
          "output_type": "stream",
          "name": "stdout",
          "text": [
            "Enter age: 42\n",
            "Eligible for NID card\n"
          ]
        }
      ]
    },
    {
      "cell_type": "markdown",
      "source": [
        "22. Write a program to check whether the year is a leap year or not"
      ],
      "metadata": {
        "id": "QDXocaD7ZtyC"
      }
    },
    {
      "cell_type": "code",
      "source": [
        "year = int(input(\"Enter year: \"))\n",
        "if (year % 4 == 0 and year % 100 != 0) or (year % 400 == 0):\n",
        "    print(\"Leap year\")\n",
        "else:\n",
        "    print(\"Not a leap year\")"
      ],
      "metadata": {
        "colab": {
          "base_uri": "https://localhost:8080/"
        },
        "id": "7WdZ59z_ZwVk",
        "outputId": "89874136-c5d5-4443-eaf8-4cec23c68aa6"
      },
      "execution_count": 24,
      "outputs": [
        {
          "output_type": "stream",
          "name": "stdout",
          "text": [
            "Enter year: 2025\n",
            "Not a leap year\n"
          ]
        }
      ]
    },
    {
      "cell_type": "markdown",
      "source": [
        "23. Write a program which can detect if the alaphabet is vowel or\n",
        "consonant."
      ],
      "metadata": {
        "id": "i-EVpjHwaM4C"
      }
    },
    {
      "cell_type": "code",
      "source": [
        "char = input(\"Enter character: \")\n",
        "if char.lower() in 'aeiou':\n",
        "    print(\"Vowel\")\n",
        "else:\n",
        "    print(\"Consonant\")"
      ],
      "metadata": {
        "colab": {
          "base_uri": "https://localhost:8080/"
        },
        "id": "3PKRVhkYaPRN",
        "outputId": "754b3cf7-8a94-4310-8b2e-824b85224c46"
      },
      "execution_count": 23,
      "outputs": [
        {
          "output_type": "stream",
          "name": "stdout",
          "text": [
            "Enter character: h\n",
            "Consonant\n"
          ]
        }
      ]
    },
    {
      "cell_type": "markdown",
      "source": [
        "4. Write a program to input the angles of a triangle and check whether a\n",
        "triangle is valid or not."
      ],
      "metadata": {
        "id": "3552Ve_uaV7a"
      }
    },
    {
      "cell_type": "code",
      "source": [
        "angle1 = float(input(\"Enter first angle: \"))\n",
        "angle2 = float(input(\"Enter second angle: \"))\n",
        "angle3 = float(input(\"Enter third angle: \"))\n",
        "if angle1 + angle2 + angle3 == 180:\n",
        "    print(\"Valid triangle\")\n",
        "else:\n",
        "    print(\"Invalid triangle\")"
      ],
      "metadata": {
        "colab": {
          "base_uri": "https://localhost:8080/"
        },
        "id": "_vo2rxbZaXDU",
        "outputId": "b423baa1-519d-4d1b-c49e-f2a5442c97af"
      },
      "execution_count": 25,
      "outputs": [
        {
          "output_type": "stream",
          "name": "stdout",
          "text": [
            "Enter first angle: 30\n",
            "Enter second angle: 60\n",
            "Enter third angle: 90\n",
            "Valid triangle\n"
          ]
        }
      ]
    },
    {
      "cell_type": "markdown",
      "source": [
        "25. Write a program to find the eligibility for admission to a professional\n",
        "course base on the following criteria:\n",
        "Marks in MATHS >= 65\n",
        "Marks in PHY >= 55\n",
        "Marks in CHEM >= 50\n",
        "Or,\n",
        "Total in all three subjects => 180\n",
        "Or,\n",
        "Total in Math and physics >=140"
      ],
      "metadata": {
        "id": "xFvEMhshawpH"
      }
    },
    {
      "cell_type": "code",
      "source": [
        "maths = float(input(\"Enter maths marks: \"))\n",
        "phy = float(input(\"Enter physics marks: \"))\n",
        "chem = float(input(\"Enter chemistry marks: \"))\n",
        "if maths >= 65 and phy >= 55 and chem >= 50:\n",
        "    print(\"Eligible\")\n",
        "elif maths + phy + chem >= 180:\n",
        "    print(\"Eligible\")\n",
        "elif maths + phy >= 140:\n",
        "    print(\"Eligible\")\n",
        "else:\n",
        "    print(\"Not eligible\")"
      ],
      "metadata": {
        "colab": {
          "base_uri": "https://localhost:8080/"
        },
        "id": "cvJ7WCada1b7",
        "outputId": "ecd604d1-7e2a-41e6-a673-12a39909ec22"
      },
      "execution_count": 26,
      "outputs": [
        {
          "output_type": "stream",
          "name": "stdout",
          "text": [
            "Enter maths marks: 82\n",
            "Enter physics marks: 89\n",
            "Enter chemistry marks: 85\n",
            "Eligible\n"
          ]
        }
      ]
    },
    {
      "cell_type": "markdown",
      "source": [
        "26. Write a program to read the temperature in centigrade and\n",
        "display a suitable message according to the temperature state below:\n",
        "Temp < 0 then Freezing weather\n",
        "Temp 0-10 then very cold weather\n",
        "Temp 10-20 then cold weather\n",
        "Temp 20-30 then Normal in Temp\n",
        "Temp 30-40 then it’s hot\n",
        "Temp >=40 then it’s very hot."
      ],
      "metadata": {
        "id": "gHq_tZ9Ma9fN"
      }
    },
    {
      "cell_type": "code",
      "source": [
        "temp = float(input(\"Enter temperature: \"))\n",
        "if temp < 0:\n",
        "    print(\"Freezing weather\")\n",
        "elif 0 <= temp < 10:\n",
        "    print(\"Very cold weather\")\n",
        "elif 10 <= temp < 20:\n",
        "    print(\"Cold weather\")\n",
        "elif 20 <= temp < 30:\n",
        "    print(\"Normal in Temp\")\n",
        "elif 30 <= temp < 40:\n",
        "    print(\"It's hot\")\n",
        "else:\n",
        "    print(\"It's very hot\")\n"
      ],
      "metadata": {
        "colab": {
          "base_uri": "https://localhost:8080/"
        },
        "id": "1O5VrygxbVwB",
        "outputId": "97acff04-d94c-446b-f279-025a463d063a"
      },
      "execution_count": 27,
      "outputs": [
        {
          "output_type": "stream",
          "name": "stdout",
          "text": [
            "Enter temperature: 42\n",
            "It's very hot\n"
          ]
        }
      ]
    },
    {
      "cell_type": "markdown",
      "source": [
        "27. Write a program to read four values a, b, c, and d from the terminal\n",
        "and evaluate the value of (a+b) to (c-d), and print the result, if c-d is not\n",
        "equal to zero"
      ],
      "metadata": {
        "id": "HOSij_JxbaRr"
      }
    },
    {
      "cell_type": "code",
      "source": [
        "a = float(input(\"Enter a: \"))\n",
        "b = float(input(\"Enter b: \"))\n",
        "c = float(input(\"Enter c: \"))\n",
        "d = float(input(\"Enter d: \"))\n",
        "if c - d != 0:\n",
        "    result = (a + b) / (c - d)\n",
        "    print(f\"Result: {result}\")\n",
        "else:\n",
        "    print(\"c-d is equal to zero, cannot divide\")2"
      ],
      "metadata": {
        "colab": {
          "base_uri": "https://localhost:8080/"
        },
        "id": "QxH_JvA9bdrF",
        "outputId": "ce2175fd-62f1-4d84-d579-86065ee3826a"
      },
      "execution_count": 28,
      "outputs": [
        {
          "output_type": "stream",
          "name": "stdout",
          "text": [
            "Enter a: 10\n",
            "Enter b: 20\n",
            "Enter c: 30\n",
            "Enter d: 40\n",
            "Result: -3.0\n"
          ]
        }
      ]
    },
    {
      "cell_type": "markdown",
      "source": [
        "28. Write a program that takes the integer number of a student and finds out\n",
        "the grade using a switch case statement following the grading system.\n",
        "A = 90-100\n",
        "B+ = 87-89\n",
        "B = 84-86\n",
        "B- = 80-83\n",
        "C+ = 77-79\n",
        "C = 74-76\n",
        "C- = 70-73\n",
        "D+ = 65-69\n",
        "D = 60-64\n",
        "F = Below 60"
      ],
      "metadata": {
        "id": "oJ4GXP_AblnE"
      }
    },
    {
      "cell_type": "code",
      "source": [
        "def get_grade(score):\n",
        "    if 90 <= score <= 100:\n",
        "        return \"A\"\n",
        "    elif 87 <= score <= 89:\n",
        "        return \"B+\"\n",
        "    elif 84 <= score <= 86:\n",
        "        return \"B\"\n",
        "    elif 80 <= score <= 83:\n",
        "        return \"B-\"\n",
        "    elif 77 <= score <= 79:\n",
        "        return \"C+\"\n",
        "    elif 74 <= score <= 76:\n",
        "        return \"C\"\n",
        "    elif 70 <= score <= 73:\n",
        "        return \"C-\"\n",
        "    elif 65 <= score <= 69:\n",
        "        return \"D+\"\n",
        "    elif 60 <= score <= 64:\n",
        "        return \"D\"\n",
        "    elif score < 60:\n",
        "        return \"F\"\n",
        "    else:\n",
        "        return \"Invalid Score\"\n",
        "\n",
        "student_score = int(input(\"Enter student score: \"))\n",
        "grade = get_grade(student_score)\n",
        "print(f\"Grade: {grade}\")\n"
      ],
      "metadata": {
        "colab": {
          "base_uri": "https://localhost:8080/"
        },
        "id": "hMn8jfJCb0OA",
        "outputId": "44052894-0349-49e5-8165-850d366312a1"
      },
      "execution_count": 30,
      "outputs": [
        {
          "output_type": "stream",
          "name": "stdout",
          "text": [
            "Enter student score: 82\n",
            "Grade: B-\n"
          ]
        }
      ]
    },
    {
      "cell_type": "markdown",
      "source": [
        "29. Write a program to find the sum of all even numbers between 1\n",
        "to n.\n"
      ],
      "metadata": {
        "id": "JK4x74mEcUby"
      }
    },
    {
      "cell_type": "code",
      "source": [
        "n = int(input(\"Enter a positive integer n: \"))\n",
        "sum_of_evens = 0\n",
        "for i in range(2, n + 1, 2):\n",
        "    sum_of_evens += i\n",
        "print(f\"The sum of all even numbers between 1 and {n} is: {sum_of_evens}\")\n"
      ],
      "metadata": {
        "colab": {
          "base_uri": "https://localhost:8080/"
        },
        "id": "MfDF9eJWcZGF",
        "outputId": "280a26a1-2aef-4341-dea3-84381b14629a"
      },
      "execution_count": 31,
      "outputs": [
        {
          "output_type": "stream",
          "name": "stdout",
          "text": [
            "Enter a positive integer n: 25\n",
            "The sum of all even numbers between 1 and 25 is: 156\n"
          ]
        }
      ]
    },
    {
      "cell_type": "markdown",
      "source": [
        "30. Write a program to find the last digit of a given number"
      ],
      "metadata": {
        "id": "Jd0N_PkPcWz2"
      }
    },
    {
      "cell_type": "code",
      "source": [
        "def find_last_digit(number):\n",
        "    return abs(number) % 10\n",
        "\n",
        "number = int(input(\"Enter a number: \"))\n",
        "last_digit = find_last_digit(number)\n",
        "print(f\"The last digit of {number} is {last_digit}\")\n"
      ],
      "metadata": {
        "colab": {
          "base_uri": "https://localhost:8080/"
        },
        "id": "LIO4lOH1cZtf",
        "outputId": "5a3e10d9-ad67-4493-a710-88bde0128b57"
      },
      "execution_count": 32,
      "outputs": [
        {
          "output_type": "stream",
          "name": "stdout",
          "text": [
            "Enter a number: 8569\n",
            "The last digit of 8569 is 9\n"
          ]
        }
      ]
    }
  ]
}